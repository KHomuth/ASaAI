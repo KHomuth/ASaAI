{
 "cells": [
  {
   "cell_type": "code",
   "execution_count": 59,
   "metadata": {},
   "outputs": [],
   "source": [
    "import numpy as np\n",
    "import pickle\n",
    "from sklearn import datasets, linear_model\n",
    "from sklearn.metrics import mean_squared_error,r2_score, accuracy_score\n",
    "\n",
    "%store -r X_train\n",
    "%store -r X_test\n",
    "%store -r y_train\n",
    "%store -r y_test"
   ]
  },
  {
   "cell_type": "markdown",
   "id": "4d3442c8",
   "metadata": {},
   "source": [
    "# Logistische Regression \n",
    "\n",
    "Hier werden Daten mittels Logistischer Regession trainiert. Anschliessend wird die Genauigkeit des Modells geprüft.\n"
   ]
  },
  {
   "cell_type": "code",
   "execution_count": 60,
   "metadata": {},
   "outputs": [
    {
     "name": "stdout",
     "output_type": "stream",
     "text": [
      "0.888725\n"
     ]
    },
    {
     "name": "stderr",
     "output_type": "stream",
     "text": [
      "C:\\Users\\Kirsten\\anaconda3\\lib\\site-packages\\sklearn\\linear_model\\_logistic.py:763: ConvergenceWarning: lbfgs failed to converge (status=1):\n",
      "STOP: TOTAL NO. of ITERATIONS REACHED LIMIT.\n",
      "\n",
      "Increase the number of iterations (max_iter) or scale the data as shown in:\n",
      "    https://scikit-learn.org/stable/modules/preprocessing.html\n",
      "Please also refer to the documentation for alternative solver options:\n",
      "    https://scikit-learn.org/stable/modules/linear_model.html#logistic-regression\n",
      "  n_iter_i = _check_optimize_result(\n"
     ]
    }
   ],
   "source": [
    "regr = linear_model.LogisticRegression()\n",
    "lrModel = regr.fit(X_train, y_train)\n",
    "\n",
    "print(lrModel.score(X_train, y_train))"
   ]
  },
  {
   "cell_type": "markdown",
   "id": "dcde139d",
   "metadata": {},
   "source": [
    "## Prediction - mit Logisticher Regression als Trainingsmodell\n"
   ]
  },
  {
   "cell_type": "code",
   "execution_count": 61,
   "metadata": {},
   "outputs": [
    {
     "name": "stdout",
     "output_type": "stream",
     "text": [
      "[[1 1]\n",
      " [0 0]\n",
      " [1 0]\n",
      " ...\n",
      " [1 1]\n",
      " [0 1]\n",
      " [0 0]]\n"
     ]
    }
   ],
   "source": [
    "y_pred = lrModel.predict(X_test)\n",
    "print(np.concatenate((y_pred.reshape(len(y_pred),1), np.array(y_test).reshape(len(y_test),1)),1))"
   ]
  },
  {
   "cell_type": "markdown",
   "id": "c62380b6",
   "metadata": {},
   "source": [
    "## Modell bewerten - mittels Mittlerer Quadratischer Abweichung und Bestimmtheitsmaß"
   ]
  },
  {
   "cell_type": "code",
   "execution_count": 65,
   "metadata": {},
   "outputs": [
    {
     "name": "stdout",
     "output_type": "stream",
     "text": [
      "0.1296 0.8704\n"
     ]
    }
   ],
   "source": [
    "mse = mean_squared_error(y_test, y_pred)\n",
    "score = r2_score(y_test,y_pred)\n",
    "print(mse, score)"
   ]
  },
  {
   "cell_type": "markdown",
   "id": "203d6e9f",
   "metadata": {},
   "source": [
    "# Speichern des Modells - das trainierte Modell wird als Datei gespeichert"
   ]
  },
  {
   "cell_type": "code",
   "execution_count": 63,
   "metadata": {},
   "outputs": [],
   "source": [
    "# Save trained model to file\n",
    "pickle.dump(lrModel, open(\"lr_review.pkl\", \"wb\"))"
   ]
  },
  {
   "cell_type": "markdown",
   "id": "9ade46e1",
   "metadata": {},
   "source": [
    "## Erneutes Laden des Modells in einer Variable"
   ]
  },
  {
   "cell_type": "code",
   "execution_count": 64,
   "id": "f193235d",
   "metadata": {},
   "outputs": [
    {
     "data": {
      "text/plain": [
       "0.8704"
      ]
     },
     "execution_count": 64,
     "metadata": {},
     "output_type": "execute_result"
    }
   ],
   "source": [
    "loaded_model = pickle.load(open(\"lr_review.pkl\", \"rb\"))\n",
    "y_pred_new = loaded_model.predict(X_test)\n",
    "loaded_model.score(X_test,y_test)"
   ]
  }
 ],
 "metadata": {
  "interpreter": {
   "hash": "aee8b7b246df8f9039afb4144a1f6fd8d2ca17a180786b69acc140d282b71a49"
  },
  "kernelspec": {
   "display_name": "Python 3.9.7 64-bit",
   "language": "python",
   "name": "python3"
  },
  "language_info": {
   "codemirror_mode": {
    "name": "ipython",
    "version": 3
   },
   "file_extension": ".py",
   "mimetype": "text/x-python",
   "name": "python",
   "nbconvert_exporter": "python",
   "pygments_lexer": "ipython3",
   "version": "3.8.8"
  },
  "orig_nbformat": 4
 },
 "nbformat": 4,
 "nbformat_minor": 2
}
