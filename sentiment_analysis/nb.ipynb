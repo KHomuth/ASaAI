{
 "cells": [
  {
   "cell_type": "markdown",
   "id": "d0ce70a8",
   "metadata": {},
   "source": [
    "Code erstellt nach Tutorial, identsiche Codezeilen nach:\n",
    "Parashar, A. (2020, 13. Oktober). Sentiment Analysis web app using NLTK and Heroku. medium. https://medium.com/pythoneers/sentiment-analysis-web-app-using-nltk-and-heroku-96ccd37c44ef"
   ]
  },
  {
   "cell_type": "code",
   "execution_count": 14,
   "id": "b0c5fb90",
   "metadata": {},
   "outputs": [],
   "source": [
    "import numpy as np\n",
    "import pickle\n",
    "from sklearn.naive_bayes import GaussianNB,MultinomialNB\n",
    "from sklearn.metrics import confusion_matrix,accuracy_score,ConfusionMatrixDisplay\n",
    "import matplotlib.pyplot as plt\n",
    "\n",
    "%store -r X_train\n",
    "%store -r X_test\n",
    "%store -r y_train\n",
    "%store -r y_test"
   ]
  },
  {
   "cell_type": "markdown",
   "id": "4d3442c8",
   "metadata": {},
   "source": [
    "# Naive Bayes \n",
    "\n",
    "Hier werden Naive Bayes classifier erstellt und mit Daten trainiert. Anschliessend wird die Genauigkeit des Modells geprüft.\n"
   ]
  },
  {
   "cell_type": "code",
   "execution_count": 8,
   "id": "3754c1d6",
   "metadata": {},
   "outputs": [
    {
     "name": "stdout",
     "output_type": "stream",
     "text": [
      "0.76945\n",
      "0.841075\n"
     ]
    }
   ],
   "source": [
    "GNB = GaussianNB()\n",
    "MNB = MultinomialNB()\n",
    "\n",
    "clsGNB = GNB.fit(X_train, y_train)\n",
    "clsMNB = MNB.fit(X_train, y_train)\n",
    "\n",
    "print(clsGNB.score(X_train, y_train))\n",
    "print(clsMNB.score(X_train, y_train))"
   ]
  },
  {
   "cell_type": "markdown",
   "id": "dcde139d",
   "metadata": {},
   "source": [
    "## Prediction - mit Naive Bayes als Trainingsmodell\n"
   ]
  },
  {
   "cell_type": "code",
   "execution_count": 9,
   "id": "03f7939a",
   "metadata": {},
   "outputs": [
    {
     "name": "stdout",
     "output_type": "stream",
     "text": [
      "[[1 1]\n",
      " [0 0]\n",
      " [1 0]\n",
      " ...\n",
      " [1 1]\n",
      " [0 1]\n",
      " [0 0]]\n"
     ]
    }
   ],
   "source": [
    "y_pred = clsMNB.predict(X_test)\n",
    "print(np.concatenate((y_pred.reshape(len(y_pred),1), np.array(y_test).reshape(len(y_test),1)),1))"
   ]
  },
  {
   "cell_type": "markdown",
   "id": "c62380b6",
   "metadata": {},
   "source": [
    "## Modell bewerten - mittels Confusion Matrix und Accuracy Score"
   ]
  },
  {
   "cell_type": "code",
   "execution_count": 15,
   "id": "5d812a76",
   "metadata": {},
   "outputs": [
    {
     "name": "stdout",
     "output_type": "stream",
     "text": [
      "[[4191  844]\n",
      " [ 830 4135]] 83.26\n"
     ]
    },
    {
     "data": {
      "image/png": "[encoded data removed]",
      "text/plain": [
       "<Figure size 432x288 with 2 Axes>"
      ]
     },
     "metadata": {
      "needs_background": "light"
     },
     "output_type": "display_data"
    }
   ],
   "source": [
    "cm = confusion_matrix(y_test, y_pred)\n",
    "score = accuracy_score(y_test,y_pred)\n",
    "print(cm,score*100)\n",
    "disp = ConfusionMatrixDisplay(confusion_matrix = cm)\n",
    "disp.plot()\n",
    "plt.show()"
   ]
  },
  {
   "cell_type": "markdown",
   "id": "203d6e9f",
   "metadata": {},
   "source": [
    "# Speichern des Modells - das trainierte Modell wird als Datei gespeichert"
   ]
  },
  {
   "cell_type": "code",
   "execution_count": 5,
   "id": "dbb8a2e7",
   "metadata": {},
   "outputs": [],
   "source": [
    "# Save trained model to file\n",
    "pickle.dump(clsMNB, open(\"nb_review.pkl\", \"wb\"))"
   ]
  },
  {
   "cell_type": "markdown",
   "id": "9ade46e1",
   "metadata": {},
   "source": [
    "## Erneutes Laden des Modells in einer Variable"
   ]
  },
  {
   "cell_type": "code",
   "execution_count": 6,
   "id": "f193235d",
   "metadata": {},
   "outputs": [],
   "source": [
    "loaded_model = pickle.load(open(\"nb_review.pkl\", \"rb\"))\n",
    "y_pred_new = loaded_model.predict(X_test)\n",
    "loaded_model.score(X_test,y_test)\n",
    "\n",
    "del X_train\n",
    "del X_test\n",
    "del y_train\n",
    "del y_test"
   ]
  }
 ],
 "metadata": {
  "interpreter": {
   "hash": "aee8b7b246df8f9039afb4144a1f6fd8d2ca17a180786b69acc140d282b71a49"
  },
  "kernelspec": {
   "display_name": "Python 3 (ipykernel)",
   "language": "python",
   "name": "python3"
  },
  "language_info": {
   "codemirror_mode": {
    "name": "ipython",
    "version": 3
   },
   "file_extension": ".py",
   "mimetype": "text/x-python",
   "name": "python",
   "nbconvert_exporter": "python",
   "pygments_lexer": "ipython3",
   "version": "3.9.7"
  }
 },
 "nbformat": 4,
 "nbformat_minor": 5
}
