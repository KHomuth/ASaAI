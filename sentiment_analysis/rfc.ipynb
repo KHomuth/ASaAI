{
 "cells": [
  {
   "cell_type": "code",
   "execution_count": 25,
   "id": "3eb9c730",
   "metadata": {},
   "outputs": [],
   "source": [
    "import numpy as np\n",
    "import pickle\n",
    "from sklearn.ensemble import RandomForestClassifier\n",
    "from sklearn.metrics import confusion_matrix,accuracy_score\n",
    "\n",
    "%store -r X_train\n",
    "%store -r X_test\n",
    "%store -r y_train\n",
    "%store -r y_test"
   ]
  },
  {
   "cell_type": "markdown",
   "id": "4d3442c8",
   "metadata": {},
   "source": [
    "# Random Forest \n",
    "\n",
    "Hier wird einen Random Forest Modell erstellt und mit Daten trainiert. Anschliessend wird die Genauigkeit des Modells geprüft.\n"
   ]
  },
  {
   "cell_type": "code",
   "execution_count": 26,
   "id": "6b1a6416",
   "metadata": {},
   "outputs": [
    {
     "name": "stdout",
     "output_type": "stream",
     "text": [
      "0.8407\n"
     ]
    }
   ],
   "source": [
    "RFC = RandomForestClassifier()\n",
    "rfcModel = RFC.fit(X_train, y_train)\n",
    "print(rfcModel.score(X_test,y_test))"
   ]
  },
  {
   "cell_type": "markdown",
   "id": "dcde139d",
   "metadata": {},
   "source": [
    "## Prediction - mit Entscheidungsbaum als Trainingsmodell\n"
   ]
  },
  {
   "cell_type": "code",
   "execution_count": 27,
   "id": "28c6cfae",
   "metadata": {},
   "outputs": [
    {
     "name": "stdout",
     "output_type": "stream",
     "text": [
      "[[1 1]\n",
      " [0 0]\n",
      " [1 0]\n",
      " ...\n",
      " [1 1]\n",
      " [0 1]\n",
      " [0 0]]\n"
     ]
    }
   ],
   "source": [
    "y_pred=rfcModel.predict(X_test)\n",
    "print(np.concatenate((y_pred.reshape(len(y_pred),1), np.array(y_test).reshape(len(y_test),1)),1))"
   ]
  },
  {
   "cell_type": "markdown",
   "id": "c62380b6",
   "metadata": {},
   "source": [
    "## Modell bewerten - mittels Confusion Matrix und Accuracy Score"
   ]
  },
  {
   "cell_type": "code",
   "execution_count": 28,
   "id": "b512e15e",
   "metadata": {},
   "outputs": [
    {
     "name": "stdout",
     "output_type": "stream",
     "text": [
      "[[4268  767]\n",
      " [ 826 4139]] 84.07\n"
     ]
    }
   ],
   "source": [
    "cm = confusion_matrix(y_test, y_pred)\n",
    "score = accuracy_score(y_test,y_pred)\n",
    "print(cm,score*100)"
   ]
  },
  {
   "cell_type": "markdown",
   "id": "203d6e9f",
   "metadata": {},
   "source": [
    "# Speichern des Modells - das trainierte Modell wird als Datei gespeichert"
   ]
  },
  {
   "cell_type": "code",
   "execution_count": 29,
   "id": "dbb8a2e7",
   "metadata": {},
   "outputs": [],
   "source": [
    "# Save trained model to file\n",
    "pickle.dump(rfcModel, open(\"rfc_review.pkl\", \"wb\"))"
   ]
  },
  {
   "cell_type": "markdown",
   "id": "9ade46e1",
   "metadata": {},
   "source": [
    "## Erneutes Laden des Modells in einer Variable"
   ]
  },
  {
   "cell_type": "code",
   "execution_count": 30,
   "id": "f193235d",
   "metadata": {},
   "outputs": [],
   "source": [
    "loaded_model = pickle.load(open(\"rfc_review.pkl\", \"rb\"))\n",
    "y_pred_new = loaded_model.predict(X_test)\n",
    "loaded_model.score(X_test,y_test)\n",
    "\n",
    "del X_train\n",
    "del X_test\n",
    "del y_train\n",
    "del y_test"
   ]
  }
 ],
 "metadata": {
  "interpreter": {
   "hash": "aee8b7b246df8f9039afb4144a1f6fd8d2ca17a180786b69acc140d282b71a49"
  },
  "kernelspec": {
   "display_name": "Python 3 (ipykernel)",
   "language": "python",
   "name": "python3"
  },
  "language_info": {
   "codemirror_mode": {
    "name": "ipython",
    "version": 3
   },
   "file_extension": ".py",
   "mimetype": "text/x-python",
   "name": "python",
   "nbconvert_exporter": "python",
   "pygments_lexer": "ipython3",
   "version": "3.8.8"
  }
 },
 "nbformat": 4,
 "nbformat_minor": 2
}
