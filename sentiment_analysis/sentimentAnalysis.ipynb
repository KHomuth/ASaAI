{
 "cells": [
  {
   "cell_type": "code",
   "execution_count": 5,
   "id": "a9210fb4",
   "metadata": {},
   "outputs": [
    {
     "name": "stderr",
     "output_type": "stream",
     "text": [
      "[nltk_data] Downloading package stopwords to /Users/kevin/nltk_data...\n",
      "[nltk_data]   Package stopwords is already up-to-date!\n"
     ]
    },
    {
     "data": {
      "text/plain": [
       "array([0, 0, 0, 0, 0, 0, 1, 0, 0, 1, 1, 1, 1, 1, 1, 1, 0, 0, 0, 1, 0, 0,\n",
       "       1, 1, 1, 1, 1, 1, 1, 0, 1, 1, 1, 1, 1, 0, 0, 0, 1, 1, 1, 1, 1, 0,\n",
       "       0, 0, 1, 1, 0, 0, 1, 1, 1, 1, 1, 0, 1, 1, 0, 1, 1, 0, 0, 1, 0, 0,\n",
       "       1, 0, 1, 0, 1, 1, 1, 0, 0, 0, 0, 1, 0, 1, 0, 1, 1, 0, 1, 1, 1, 0,\n",
       "       1, 1, 0, 1, 0, 0, 0, 0, 0, 0, 0, 0, 0, 1, 1, 1, 0, 1, 1, 1, 0, 0,\n",
       "       0, 1, 0, 1, 1, 0, 1, 1, 1, 1, 1, 0, 1, 1, 0, 0, 1, 0, 0, 0, 1, 1,\n",
       "       0, 0, 1, 1, 1, 1, 1, 1, 0, 1, 1, 0, 0, 0, 0, 0, 1, 0, 1, 0, 1, 1,\n",
       "       1, 0, 1, 0, 1, 1, 0, 0, 1, 1, 0, 0, 1, 0, 0, 0, 0, 1, 1, 0, 0, 0,\n",
       "       0, 1, 0, 0, 1, 0, 0, 1, 0, 1, 0, 1, 0, 1, 1, 0, 1, 0, 0, 0, 1, 1,\n",
       "       0, 1])"
      ]
     },
     "execution_count": 5,
     "metadata": {},
     "output_type": "execute_result"
    }
   ],
   "source": [
    "############ Importing Required Libraries #############\n",
    "import pandas as pd\n",
    "import numpy as np \n",
    "import nltk\n",
    "import matplotlib.pyplot as plt\n",
    "import re\n",
    "import nltk\n",
    "nltk.download('stopwords')\n",
    "from nltk.corpus import stopwords\n",
    "from nltk.stem.porter import PorterStemmer\n",
    "from sklearn.feature_extraction.text import CountVectorizer\n",
    "import pickle\n",
    "from sklearn.model_selection import train_test_split\n",
    "from sklearn.naive_bayes import GaussianNB,MultinomialNB\n",
    "from sklearn.metrics import confusion_matrix,accuracy_score\n",
    "\n",
    "\n",
    "dataset = pd.read_csv(\"Restaurant_Reviews.tsv\",delimiter = \"\\t\",quoting=3)\n",
    "pe = PorterStemmer()\n",
    "all_stopword = stopwords.words('english')\n",
    "type(all_stopword)\n",
    "all_stopword.remove('not')\n",
    "corpus = []\n",
    "\n",
    "### Clean Data\n",
    "for i in range(0,len(dataset)):\n",
    "    review = re.sub('[^a-zA-Z]',\" \",dataset[\"Review\"][i])   #replace punctuation\n",
    "    review = review.lower()                                 #convert to lowercase\n",
    "    review = review.split()                                 #split reviews\n",
    "    \n",
    "    review = [pe.stem(word) for word in review if not word in set(all_stopword)]\n",
    "                ## for every word in reviews we check if the word not in stopword if yes then \n",
    "                ## using porterstemmer we apply stemming if no then we drop the word\n",
    "    review = \" \".join(review)\n",
    "    corpus.append(review)\n",
    "\n",
    "#### Vectorization\n",
    "cv = CountVectorizer(max_features=1500) ##1500 columns\n",
    "X = cv.fit_transform(corpus).toarray()\n",
    "y = dataset[\"Liked\"]\n",
    "\n",
    "X_train,X_test,y_train,y_test = train_test_split(X,y,test_size=0.2,random_state=0)\n",
    "X_train.shape , y_test.shape\n",
    "\n",
    "#### Preparing Model\n",
    "classifier = GaussianNB().fit(X_train, y_train)\n",
    "cls = MultinomialNB().fit(X_train, y_train)\n",
    "\n",
    "### Generating Predictions\n",
    "y_pred = cls.predict(X_test)\n",
    "\n",
    "### Generating Confusion Matrix\n",
    "cm = confusion_matrix(y_test, y_pred)\n",
    "score = accuracy_score(y_test,y_pred)\n",
    "\n",
    "### Saving Models For Future Use\n",
    "pickle.dump(cv, open('cv.pkl', 'wb'))      ## Convt Vectorization\n",
    "pickle.dump(cls, open(\"review.pkl\", \"wb\")) ## Model\n",
    "\n",
    "### Loading Model\n",
    "loaded_model = pickle.load(open(\"review.pkl\", \"rb\"))\n",
    "loaded_model.predict(X_test)"
   ]
  }
 ],
 "metadata": {
  "interpreter": {
   "hash": "aee8b7b246df8f9039afb4144a1f6fd8d2ca17a180786b69acc140d282b71a49"
  },
  "kernelspec": {
   "display_name": "Python 3.9.7 64-bit",
   "name": "python3"
  },
  "language_info": {
   "codemirror_mode": {
    "name": "ipython",
    "version": 3
   },
   "file_extension": ".py",
   "mimetype": "text/x-python",
   "name": "python",
   "nbconvert_exporter": "python",
   "pygments_lexer": "ipython3",
   "version": "3.9.7"
  }
 },
 "nbformat": 4,
 "nbformat_minor": 5
}
